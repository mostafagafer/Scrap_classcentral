{
  "nbformat": 4,
  "nbformat_minor": 0,
  "metadata": {
    "colab": {
      "provenance": [],
      "toc_visible": true,
      "authorship_tag": "ABX9TyN0T0H4SK0vnewr547FI9LN",
      "include_colab_link": true
    },
    "kernelspec": {
      "name": "python3",
      "display_name": "Python 3"
    },
    "language_info": {
      "name": "python"
    }
  },
  "cells": [
    {
      "cell_type": "markdown",
      "metadata": {
        "id": "view-in-github",
        "colab_type": "text"
      },
      "source": [
        "<a href=\"https://colab.research.google.com/github/mostafagafer/Scrap_classcentral/blob/main/Classcentral_Scrap_and_translate.ipynb\" target=\"_parent\"><img src=\"https://colab.research.google.com/assets/colab-badge.svg\" alt=\"Open In Colab\"/></a>"
      ]
    },
    {
      "cell_type": "markdown",
      "source": [
        "# Seting up Selenium and other dependencies "
      ],
      "metadata": {
        "id": "AK1pj6vCztqE"
      }
    },
    {
      "cell_type": "markdown",
      "source": [
        "in order to run Selwnium on Google colab, I folowed this usful  [video](https://https://www.youtube.com/watch?v=VSO14hgo6Gs&ab_channel=PythonWebScraping) that helped me a lot for running Selenium on google Colab"
      ],
      "metadata": {
        "id": "Zgwya5VsYLsJ"
      }
    },
    {
      "cell_type": "code",
      "execution_count": null,
      "metadata": {
        "colab": {
          "base_uri": "https://localhost:8080/"
        },
        "id": "2n_m1Gp99GCA",
        "outputId": "64961c28-87ef-4db5-d61a-cc33aa4b42b4"
      },
      "outputs": [
        {
          "output_type": "stream",
          "name": "stdout",
          "text": [
            "Looking in indexes: https://pypi.org/simple, https://us-python.pkg.dev/colab-wheels/public/simple/\n",
            "Requirement already satisfied: selenium in /usr/local/lib/python3.8/dist-packages (4.8.0)\n",
            "Requirement already satisfied: certifi>=2021.10.8 in /usr/local/lib/python3.8/dist-packages (from selenium) (2022.12.7)\n",
            "Requirement already satisfied: urllib3[socks]~=1.26 in /usr/local/lib/python3.8/dist-packages (from selenium) (1.26.14)\n",
            "Requirement already satisfied: trio~=0.17 in /usr/local/lib/python3.8/dist-packages (from selenium) (0.22.0)\n",
            "Requirement already satisfied: trio-websocket~=0.9 in /usr/local/lib/python3.8/dist-packages (from selenium) (0.9.2)\n",
            "Requirement already satisfied: idna in /usr/local/lib/python3.8/dist-packages (from trio~=0.17->selenium) (2.10)\n",
            "Requirement already satisfied: attrs>=19.2.0 in /usr/local/lib/python3.8/dist-packages (from trio~=0.17->selenium) (22.2.0)\n",
            "Requirement already satisfied: outcome in /usr/local/lib/python3.8/dist-packages (from trio~=0.17->selenium) (1.2.0)\n",
            "Requirement already satisfied: async-generator>=1.9 in /usr/local/lib/python3.8/dist-packages (from trio~=0.17->selenium) (1.10)\n",
            "Requirement already satisfied: sortedcontainers in /usr/local/lib/python3.8/dist-packages (from trio~=0.17->selenium) (2.4.0)\n",
            "Requirement already satisfied: exceptiongroup>=1.0.0rc9 in /usr/local/lib/python3.8/dist-packages (from trio~=0.17->selenium) (1.1.0)\n",
            "Requirement already satisfied: sniffio in /usr/local/lib/python3.8/dist-packages (from trio~=0.17->selenium) (1.3.0)\n",
            "Requirement already satisfied: wsproto>=0.14 in /usr/local/lib/python3.8/dist-packages (from trio-websocket~=0.9->selenium) (1.2.0)\n",
            "Requirement already satisfied: PySocks!=1.5.7,<2.0,>=1.5.6 in /usr/local/lib/python3.8/dist-packages (from urllib3[socks]~=1.26->selenium) (1.7.1)\n",
            "Requirement already satisfied: h11<1,>=0.9.0 in /usr/local/lib/python3.8/dist-packages (from wsproto>=0.14->trio-websocket~=0.9->selenium) (0.14.0)\n"
          ]
        }
      ],
      "source": [
        "!pip install selenium"
      ]
    },
    {
      "cell_type": "code",
      "source": [
        "%%shell\n",
        "\n",
        "# Add debian buster\n",
        "cat > /etc/apt/sources.list.d/debian.list <<'EOF'\n",
        "deb [arch=amd64 signed-by=/usr/share/keyrings/debian-buster.gpg] http://deb.debian.org/debian buster main\n",
        "deb [arch=amd64 signed-by=/usr/share/keyrings/debian-buster-updates.gpg] http://deb.debian.org/debian buster-updates main\n",
        "deb [arch=amd64 signed-by=/usr/share/keyrings/debian-security-buster.gpg] http://deb.debian.org/debian-security buster/updates main\n",
        "EOF\n",
        "\n",
        "# Add keys\n",
        "apt-key adv --keyserver keyserver.ubuntu.com --recv-keys DCC9EFBF77E11517\n",
        "apt-key adv --keyserver keyserver.ubuntu.com --recv-keys 648ACFD622F3D138\n",
        "apt-key adv --keyserver keyserver.ubuntu.com --recv-keys 112695A0E562B32A\n",
        "\n",
        "apt-key export 77E11517 | gpg --dearmour -o /usr/share/keyrings/debian-buster.gpg\n",
        "apt-key export 22F3D138 | gpg --dearmour -o /usr/share/keyrings/debian-buster-updates.gpg\n",
        "apt-key export E562B32A | gpg --dearmour -o /usr/share/keyrings/debian-security-buster.gpg\n",
        "\n",
        "# Prefer debian repo for chromium* packages only\n",
        "# Note the double-blank lines between entries\n",
        "cat > /etc/apt/preferences.d/chromium.pref << 'EOF'\n",
        "Package: *\n",
        "Pin: release a=eoan\n",
        "Pin-Priority: 500\n",
        "\n",
        "\n",
        "Package: *\n",
        "Pin: origin \"deb.debian.org\"\n",
        "Pin-Priority: 300\n",
        "\n",
        "\n",
        "Package: chromium*\n",
        "Pin: origin \"deb.debian.org\"\n",
        "Pin-Priority: 700\n",
        "EOF"
      ],
      "metadata": {
        "colab": {
          "base_uri": "https://localhost:8080/"
        },
        "id": "asEOft_u9Izz",
        "outputId": "e0179e81-5ed7-48cb-bc02-e312546b7ae3"
      },
      "execution_count": null,
      "outputs": [
        {
          "output_type": "stream",
          "name": "stdout",
          "text": [
            "Executing: /tmp/apt-key-gpghome.ivNSuXvpzA/gpg.1.sh --keyserver keyserver.ubuntu.com --recv-keys DCC9EFBF77E11517\n",
            "gpg: key DCC9EFBF77E11517: \"Debian Stable Release Key (10/buster) <debian-release@lists.debian.org>\" not changed\n",
            "gpg: Total number processed: 1\n",
            "gpg:              unchanged: 1\n",
            "Executing: /tmp/apt-key-gpghome.LllNzV8F0D/gpg.1.sh --keyserver keyserver.ubuntu.com --recv-keys 648ACFD622F3D138\n",
            "gpg: key DC30D7C23CBBABEE: \"Debian Archive Automatic Signing Key (10/buster) <ftpmaster@debian.org>\" not changed\n",
            "gpg: Total number processed: 1\n",
            "gpg:              unchanged: 1\n",
            "Executing: /tmp/apt-key-gpghome.uJxaXAZWWN/gpg.1.sh --keyserver keyserver.ubuntu.com --recv-keys 112695A0E562B32A\n",
            "gpg: key 4DFAB270CAA96DFA: \"Debian Security Archive Automatic Signing Key (10/buster) <ftpmaster@debian.org>\" not changed\n",
            "gpg: Total number processed: 1\n",
            "gpg:              unchanged: 1\n",
            "gpg: cannot open '/dev/tty': No such device or address\n",
            "Warning: apt-key output should not be parsed (stdout is not a terminal)\n",
            "gpg: [stdout]: write error: Broken pipe\n",
            "gpg: filter_flush failed on close: Broken pipe\n",
            "gpg: cannot open '/dev/tty': No such device or address\n",
            "Warning: apt-key output should not be parsed (stdout is not a terminal)\n",
            "gpg: [stdout]: write error: Broken pipe\n",
            "gpg: filter_flush failed on close: Broken pipe\n",
            "gpg: cannot open '/dev/tty': No such device or address\n",
            "Warning: apt-key output should not be parsed (stdout is not a terminal)\n",
            "gpg: [stdout]: write error: Broken pipe\n",
            "gpg: filter_flush failed on close: Broken pipe\n"
          ]
        },
        {
          "output_type": "execute_result",
          "data": {
            "text/plain": []
          },
          "metadata": {},
          "execution_count": 2
        }
      ]
    },
    {
      "cell_type": "code",
      "source": [
        "!apt-get update\n",
        "!apt-get install chromium chromium-driver"
      ],
      "metadata": {
        "colab": {
          "base_uri": "https://localhost:8080/"
        },
        "id": "psMbnZ1m9LqK",
        "outputId": "e0bb2ad7-6406-4179-acf0-18c0e22ca11f"
      },
      "execution_count": null,
      "outputs": [
        {
          "output_type": "stream",
          "name": "stdout",
          "text": [
            "\r0% [Working]\r            \rHit:1 http://deb.debian.org/debian buster InRelease\n",
            "\r0% [Connecting to archive.ubuntu.com (91.189.91.39)] [Connecting to security.ub\r                                                                               \rHit:2 http://archive.ubuntu.com/ubuntu focal InRelease\n",
            "\r                                                                               \rGet:3 http://archive.ubuntu.com/ubuntu focal-updates InRelease [114 kB]\n",
            "\r                                                                               \rGet:4 http://deb.debian.org/debian buster-updates InRelease [56.6 kB]\n",
            "\r                                                                               \rHit:5 http://deb.debian.org/debian-security buster/updates InRelease\n",
            "Get:6 http://security.ubuntu.com/ubuntu focal-security InRelease [114 kB]\n",
            "Get:7 http://ppa.launchpad.net/c2d4u.team/c2d4u4.0+/ubuntu focal InRelease [18.1 kB]\n",
            "Get:8 http://archive.ubuntu.com/ubuntu focal-backports InRelease [108 kB]\n",
            "Hit:9 https://cloud.r-project.org/bin/linux/ubuntu focal-cran40/ InRelease\n",
            "Ign:10 https://developer.download.nvidia.com/compute/machine-learning/repos/ubuntu2004/x86_64  InRelease\n",
            "Hit:11 https://developer.download.nvidia.com/compute/cuda/repos/ubuntu2004/x86_64  InRelease\n",
            "Hit:12 https://developer.download.nvidia.com/compute/machine-learning/repos/ubuntu2004/x86_64  Release\n",
            "Hit:13 http://ppa.launchpad.net/cran/libgit2/ubuntu focal InRelease\n",
            "Hit:14 http://ppa.launchpad.net/deadsnakes/ppa/ubuntu focal InRelease\n",
            "Hit:15 http://ppa.launchpad.net/graphics-drivers/ppa/ubuntu focal InRelease\n",
            "Get:16 http://ppa.launchpad.net/c2d4u.team/c2d4u4.0+/ubuntu focal/main Sources [2,385 kB]\n",
            "Get:18 http://ppa.launchpad.net/c2d4u.team/c2d4u4.0+/ubuntu focal/main amd64 Packages [1,130 kB]\n",
            "Fetched 3,926 kB in 4s (1,056 kB/s)\n",
            "Reading package lists... Done\n",
            "Reading package lists... Done\n",
            "Building dependency tree       \n",
            "Reading state information... Done\n",
            "chromium is already the newest version (90.0.4430.212-1~deb10u1).\n",
            "chromium-driver is already the newest version (90.0.4430.212-1~deb10u1).\n",
            "The following package was automatically installed and is no longer required:\n",
            "  libnvidia-common-510\n",
            "Use 'apt autoremove' to remove it.\n",
            "0 upgraded, 0 newly installed, 0 to remove and 26 not upgraded.\n"
          ]
        }
      ]
    },
    {
      "cell_type": "markdown",
      "source": [
        "# Import all the necessary libriaries"
      ],
      "metadata": {
        "id": "A-4R7r_Qz8Me"
      }
    },
    {
      "cell_type": "code",
      "source": [
        "# Import all the necessary libriaries that I'll use \n",
        "from selenium import webdriver\n",
        "from selenium.webdriver.common.by import By\n",
        "from selenium.common.exceptions import NoSuchElementException\n",
        "import time"
      ],
      "metadata": {
        "id": "c6VQ2_YV9mOj"
      },
      "execution_count": null,
      "outputs": []
    },
    {
      "cell_type": "code",
      "source": [
        "def web_driver():\n",
        "    options = webdriver.ChromeOptions()\n",
        "    options.add_argument(\"--verbose\")\n",
        "    options.add_argument('--no-sandbox')\n",
        "    options.add_argument('--headless')\n",
        "    options.add_argument('--disable-gpu')\n",
        "    options.add_argument(\"--window-size=1920, 1200\")\n",
        "    options.add_argument('--disable-dev-shm-usage')\n",
        "    options.add_argument('--disable-blink-features=AutomationControlled')\n",
        "\n",
        "    driver = webdriver.Chrome(options=options)\n",
        "    return driver"
      ],
      "metadata": {
        "id": "IWV7VB1X9ca_"
      },
      "execution_count": null,
      "outputs": []
    },
    {
      "cell_type": "code",
      "source": [
        "driver = web_driver()"
      ],
      "metadata": {
        "id": "hYB1Oazo9oMj"
      },
      "execution_count": null,
      "outputs": []
    },
    {
      "cell_type": "code",
      "source": [
        "# Navigating to the classcentral so I can start scrapping it\n",
        "URL= 'https://www.classcentral.com/'\n",
        "driver.get(URL)"
      ],
      "metadata": {
        "id": "dZjvMGXd-xEH"
      },
      "execution_count": null,
      "outputs": []
    },
    {
      "cell_type": "markdown",
      "source": [
        "# Scraping the Data"
      ],
      "metadata": {
        "id": "dP3cRZeA0DP2"
      }
    },
    {
      "cell_type": "markdown",
      "source": [
        "**Scrap the links and save it in a list called href_links**"
      ],
      "metadata": {
        "id": "vOiW9DM8ZCZQ"
      }
    },
    {
      "cell_type": "code",
      "source": [
        "href_links = []\n",
        "elems2 = driver.find_elements(by=By.CLASS_NAME, value=\"scale-on-hover.text-1.row.horz-align-left.nowrap.color-charcoal.hover-no-underline.text-no-underline.vert-align-middle.radius-small.hover-bg-purple-light.padding-horz-xsmall.padding-vert-xxsmall\")\n",
        "for elem in elems2:\n",
        "    l = elem.get_attribute(\"href\")\n",
        "    if (l not in href_links) & (l is not None):\n",
        "        href_links.append(l)\n",
        "\n",
        "print(len(href_links))  "
      ],
      "metadata": {
        "colab": {
          "base_uri": "https://localhost:8080/"
        },
        "id": "4XLXD4499837",
        "outputId": "1d0da97b-f0f7-4c33-b0c5-117333ad269c"
      },
      "execution_count": null,
      "outputs": [
        {
          "output_type": "stream",
          "name": "stdout",
          "text": [
            "27\n"
          ]
        }
      ]
    },
    {
      "cell_type": "markdown",
      "source": [
        "**Scrap the text associated with these links and save it in a list called href_text**"
      ],
      "metadata": {
        "id": "HmpByjjKZSzL"
      }
    },
    {
      "cell_type": "code",
      "source": [
        "href_text = []\n",
        "elems2 = driver.find_elements(by=By.CLASS_NAME, value=\"margin-left-xsmall.fill-space\")\n",
        "for elem in elems2:\n",
        "    l = elem.get_attribute(\"innerHTML\")\n",
        "    if (l not in href_text) & (l is not None):\n",
        "        href_text.append(l)\n",
        "\n",
        "print(len(href_text))  "
      ],
      "metadata": {
        "colab": {
          "base_uri": "https://localhost:8080/"
        },
        "id": "maAWoiFQCwyr",
        "outputId": "85012188-d6cb-4930-9d61-91953c31959d"
      },
      "execution_count": null,
      "outputs": [
        {
          "output_type": "stream",
          "name": "stdout",
          "text": [
            "27\n"
          ]
        }
      ]
    },
    {
      "cell_type": "markdown",
      "source": [
        "**Navigate to these links and scrap the pargraph in each link**"
      ],
      "metadata": {
        "id": "BHSc3Qo1ZeSk"
      }
    },
    {
      "cell_type": "code",
      "source": [
        "description = []\n",
        "for i in href_links:\n",
        "  driver.get(i)\n",
        "  time.sleep(6)  \n",
        "  try:\n",
        "      elems= driver.find_element(by=By.XPATH, value=\"/html/body/div[1]/div[2]/div[2]/div/div[2]/p\")\n",
        "      l = elems.get_attribute(\"innerHTML\")\n",
        "  except NoSuchElementException:\n",
        "      l = 'No pragraph available'\n",
        "  time.sleep(2)\n",
        "  description.append(l)"
      ],
      "metadata": {
        "id": "bUoagQowAENl"
      },
      "execution_count": null,
      "outputs": []
    },
    {
      "cell_type": "markdown",
      "source": [
        "# Translating the data"
      ],
      "metadata": {
        "id": "Tjn5Ufey0Hd3"
      }
    },
    {
      "cell_type": "markdown",
      "source": [
        "**Translate**\n",
        "\n",
        "the code in this part is a modified version of the code provided in [this link](https://www.pragnakalp.com/python-tutorial-automate-google-translation-using-selenium/)"
      ],
      "metadata": {
        "id": "X5s_ZuzXR_px"
      }
    },
    {
      "cell_type": "code",
      "source": [
        "translated_text = []\n",
        "for input in description:\n",
        "  lang_code = 'hi '\n",
        "  driver.get(\"https://translate.google.co.in/?sl=auto&tl=\"+lang_code+\"&text=\"+input+\"&op=translate\")\n",
        "  time.sleep(6)\n",
        "  output = driver.find_element(By.CLASS_NAME,'HwtZe').text\n",
        "  translated_text.append(output)\n"
      ],
      "metadata": {
        "id": "zQoYLRwDTTaU"
      },
      "execution_count": null,
      "outputs": []
    },
    {
      "cell_type": "markdown",
      "source": [
        "# Convert the results into a pandas DataFrame"
      ],
      "metadata": {
        "id": "EJLSElsG0LRA"
      }
    },
    {
      "cell_type": "markdown",
      "source": [
        "**Convert to a pandas Dataframe**"
      ],
      "metadata": {
        "id": "Puh0wrOrx2k6"
      }
    },
    {
      "cell_type": "code",
      "source": [
        "import pandas as pd \n",
        "# list of name, degree, score\n",
        "href_text\n",
        "href_links\n",
        "description\n",
        "translated_text  \n",
        "# dictionary of lists \n",
        "dict = {'item': href_text, 'Links': href_links, 'Paragraph': description, 'Paragraph_in_Hindi':translated_text} \n",
        "    \n",
        "df = pd.DataFrame(dict)\n",
        "    \n",
        "df "
      ],
      "metadata": {
        "colab": {
          "base_uri": "https://localhost:8080/",
          "height": 1000
        },
        "id": "AL2nohlEXVdL",
        "outputId": "891c78e0-a3ed-4bc2-98f7-b89ab520a2c9"
      },
      "execution_count": null,
      "outputs": [
        {
          "output_type": "execute_result",
          "data": {
            "text/plain": [
              "                   item                                              Links  \\\n",
              "0    Harvard University    https://www.classcentral.com/university/harvard   \n",
              "1   Stanford University   https://www.classcentral.com/university/stanford   \n",
              "2         IIT Kharagpur  https://www.classcentral.com/university/iit-kh...   \n",
              "3                   MIT        https://www.classcentral.com/university/mit   \n",
              "4       Rice University       https://www.classcentral.com/university/rice   \n",
              "5            IIT Madras       https://www.classcentral.com/university/iitm   \n",
              "6   Columbia University   https://www.classcentral.com/university/columbia   \n",
              "7    Cornell University    https://www.classcentral.com/university/cornell   \n",
              "8       U. of Edinburgh  https://www.classcentral.com/university/edinburgh   \n",
              "9     Purdue University     https://www.classcentral.com/university/purdue   \n",
              "10   U. of Pennsylvania       https://www.classcentral.com/university/penn   \n",
              "11      Duke University       https://www.classcentral.com/university/duke   \n",
              "12       U. of Michigan      https://www.classcentral.com/university/umich   \n",
              "13             Coursera     https://www.classcentral.com/provider/coursera   \n",
              "14                  edX          https://www.classcentral.com/provider/edx   \n",
              "15          FutureLearn  https://www.classcentral.com/provider/futurelearn   \n",
              "16                Udemy        https://www.classcentral.com/provider/udemy   \n",
              "17               Swayam       https://www.classcentral.com/provider/swayam   \n",
              "18    LinkedIn Learning  https://www.classcentral.com/provider/linkedin...   \n",
              "19           Skillshare   https://www.classcentral.com/provider/skillshare   \n",
              "20               Google    https://www.classcentral.com/institution/google   \n",
              "21               Amazon    https://www.classcentral.com/institution/amazon   \n",
              "22            Microsoft  https://www.classcentral.com/institution/micro...   \n",
              "23                  IBM       https://www.classcentral.com/institution/ibm   \n",
              "24          Smithsonian  https://www.classcentral.com/institution/smith...   \n",
              "25       United Nations  https://www.classcentral.com/institution/unite...   \n",
              "26      British Council  https://www.classcentral.com/institution/briti...   \n",
              "\n",
              "                                            Paragraph  \\\n",
              "0   Harvard University is a world-renowned, privat...   \n",
              "1   Stanford University is an elite, innovative un...   \n",
              "2   IIT Kharagpur, established in 1951, is the old...   \n",
              "3   Massachusetts Institute of Technology (MIT) is...   \n",
              "4   Rice University is an internationally-renowned...   \n",
              "5   IIT Madras is a public engineering institution...   \n",
              "6   Columbia University is an Ivy League school lo...   \n",
              "7   Founded in 1865, Cornell University is a priva...   \n",
              "8   The University of Edinburgh is an internationa...   \n",
              "9   Purdue University is an esteemed public resear...   \n",
              "10  University of Pennsylvania is an Ivy League un...   \n",
              "11  Duke University is a world-renowned private re...   \n",
              "12  The University of Michigan is a top public uni...   \n",
              "13  Coursera is an online learning platform that p...   \n",
              "14  EdX is an online learning platform that offers...   \n",
              "15  FutureLearn is a UK-based online learning plat...   \n",
              "16  Udemy is an online learning platform that prov...   \n",
              "17  Swayam is a government of India's platform for...   \n",
              "18  LinkedIn Learning is an online learning platfo...   \n",
              "19  Skillshare is an online learning community wit...   \n",
              "20  Google is an American multinational corporatio...   \n",
              "21  Amazon.com, Inc. is an American electronic com...   \n",
              "22  Microsoft Corporation is an American multinati...   \n",
              "23                              No pragraph available   \n",
              "24  The Smithsonian Institution, established in 18...   \n",
              "25  UN CC:e-Learn provides free online courses to ...   \n",
              "26  The British Council is a British organisation ...   \n",
              "\n",
              "                                   Paragraph_in_Hindi  \n",
              "0   हार्वर्ड विश्वविद्यालय कैम्ब्रिज, मैसाचुसेट्स ...  \n",
              "1   स्टैनफोर्ड विश्वविद्यालय पालो ऑल्टो, कैलिफोर्न...  \n",
              "2   1951 में स्थापित IIT खड़गपुर, भारत में सबसे पु...  \n",
              "3   मैसाचुसेट्स इंस्टीट्यूट ऑफ टेक्नोलॉजी (MIT) एक...  \n",
              "4   राइस यूनिवर्सिटी एक अंतरराष्ट्रीय स्तर पर प्रस...  \n",
              "5   IIT मद्रास भारत में एक सार्वजनिक इंजीनियरिंग स...  \n",
              "6   कोलंबिया विश्वविद्यालय NYC में स्थित एक आइवी ल...  \n",
              "7   1865 में स्थापित, कॉर्नेल विश्वविद्यालय इथाका,...  \n",
              "8   एडिनबर्ग विश्वविद्यालय स्कॉटलैंड की खूबसूरत रा...  \n",
              "9   पर्ड्यू विश्वविद्यालय एक सम्मानित सार्वजनिक अन...  \n",
              "10  पेंसिल्वेनिया विश्वविद्यालय फिलाडेल्फिया, पीए ...  \n",
              "11  ड्यूक विश्वविद्यालय डरहम, नेकां में स्थित एक व...  \n",
              "12  मिशिगन विश्वविद्यालय एक शीर्ष सार्वजनिक विश्वव...  \n",
              "13  Coursera एक ऑनलाइन लर्निंग प्लेटफॉर्म है जो वि...  \n",
              "14  EDX एक ऑनलाइन लर्निंग प्लेटफॉर्म है जो दुनिया ...  \n",
              "15  FutureLearn एक यूके-आधारित ऑनलाइन लर्निंग प्ले...  \n",
              "16  Udemy एक ऑनलाइन लर्निंग प्लेटफॉर्म है जो कंप्य...  \n",
              "17  स्वायम ऑनलाइन शिक्षा के लिए भारत का एक मंच है,...  \n",
              "18  लिंक्डइन लर्निंग एक ऑनलाइन लर्निंग प्लेटफॉर्म ...  \n",
              "19  Skillshare एक ऑनलाइन शिक्षण समुदाय है जिसमें ड...  \n",
              "20  Google एक अमेरिकी बहुराष्ट्रीय निगम है जो इंटर...  \n",
              "21  Amazon.com, Inc. सिएटल, वाशिंगटन में मुख्यालय ...  \n",
              "22  Microsoft Corporation एक अमेरिकी बहुराष्ट्रीय ...  \n",
              "23                           कोई प्राग उपलब्ध नहीं है  \n",
              "24  स्मिथसोनियन इंस्टीट्यूशन, 1846 में \"ज्ञान की व...  \n",
              "25  UN CC: ई-लर्न लोगों को जलवायु परिवर्तन, विज्ञा...  \n",
              "26  ब्रिटिश काउंसिल एक ब्रिटिश संगठन है जो अंतर्रा...  "
            ],
            "text/html": [
              "\n",
              "  <div id=\"df-55ef2b82-b3df-4cc4-9c0b-7208b5061bf4\">\n",
              "    <div class=\"colab-df-container\">\n",
              "      <div>\n",
              "<style scoped>\n",
              "    .dataframe tbody tr th:only-of-type {\n",
              "        vertical-align: middle;\n",
              "    }\n",
              "\n",
              "    .dataframe tbody tr th {\n",
              "        vertical-align: top;\n",
              "    }\n",
              "\n",
              "    .dataframe thead th {\n",
              "        text-align: right;\n",
              "    }\n",
              "</style>\n",
              "<table border=\"1\" class=\"dataframe\">\n",
              "  <thead>\n",
              "    <tr style=\"text-align: right;\">\n",
              "      <th></th>\n",
              "      <th>item</th>\n",
              "      <th>Links</th>\n",
              "      <th>Paragraph</th>\n",
              "      <th>Paragraph_in_Hindi</th>\n",
              "    </tr>\n",
              "  </thead>\n",
              "  <tbody>\n",
              "    <tr>\n",
              "      <th>0</th>\n",
              "      <td>Harvard University</td>\n",
              "      <td>https://www.classcentral.com/university/harvard</td>\n",
              "      <td>Harvard University is a world-renowned, privat...</td>\n",
              "      <td>हार्वर्ड विश्वविद्यालय कैम्ब्रिज, मैसाचुसेट्स ...</td>\n",
              "    </tr>\n",
              "    <tr>\n",
              "      <th>1</th>\n",
              "      <td>Stanford University</td>\n",
              "      <td>https://www.classcentral.com/university/stanford</td>\n",
              "      <td>Stanford University is an elite, innovative un...</td>\n",
              "      <td>स्टैनफोर्ड विश्वविद्यालय पालो ऑल्टो, कैलिफोर्न...</td>\n",
              "    </tr>\n",
              "    <tr>\n",
              "      <th>2</th>\n",
              "      <td>IIT Kharagpur</td>\n",
              "      <td>https://www.classcentral.com/university/iit-kh...</td>\n",
              "      <td>IIT Kharagpur, established in 1951, is the old...</td>\n",
              "      <td>1951 में स्थापित IIT खड़गपुर, भारत में सबसे पु...</td>\n",
              "    </tr>\n",
              "    <tr>\n",
              "      <th>3</th>\n",
              "      <td>MIT</td>\n",
              "      <td>https://www.classcentral.com/university/mit</td>\n",
              "      <td>Massachusetts Institute of Technology (MIT) is...</td>\n",
              "      <td>मैसाचुसेट्स इंस्टीट्यूट ऑफ टेक्नोलॉजी (MIT) एक...</td>\n",
              "    </tr>\n",
              "    <tr>\n",
              "      <th>4</th>\n",
              "      <td>Rice University</td>\n",
              "      <td>https://www.classcentral.com/university/rice</td>\n",
              "      <td>Rice University is an internationally-renowned...</td>\n",
              "      <td>राइस यूनिवर्सिटी एक अंतरराष्ट्रीय स्तर पर प्रस...</td>\n",
              "    </tr>\n",
              "    <tr>\n",
              "      <th>5</th>\n",
              "      <td>IIT Madras</td>\n",
              "      <td>https://www.classcentral.com/university/iitm</td>\n",
              "      <td>IIT Madras is a public engineering institution...</td>\n",
              "      <td>IIT मद्रास भारत में एक सार्वजनिक इंजीनियरिंग स...</td>\n",
              "    </tr>\n",
              "    <tr>\n",
              "      <th>6</th>\n",
              "      <td>Columbia University</td>\n",
              "      <td>https://www.classcentral.com/university/columbia</td>\n",
              "      <td>Columbia University is an Ivy League school lo...</td>\n",
              "      <td>कोलंबिया विश्वविद्यालय NYC में स्थित एक आइवी ल...</td>\n",
              "    </tr>\n",
              "    <tr>\n",
              "      <th>7</th>\n",
              "      <td>Cornell University</td>\n",
              "      <td>https://www.classcentral.com/university/cornell</td>\n",
              "      <td>Founded in 1865, Cornell University is a priva...</td>\n",
              "      <td>1865 में स्थापित, कॉर्नेल विश्वविद्यालय इथाका,...</td>\n",
              "    </tr>\n",
              "    <tr>\n",
              "      <th>8</th>\n",
              "      <td>U. of Edinburgh</td>\n",
              "      <td>https://www.classcentral.com/university/edinburgh</td>\n",
              "      <td>The University of Edinburgh is an internationa...</td>\n",
              "      <td>एडिनबर्ग विश्वविद्यालय स्कॉटलैंड की खूबसूरत रा...</td>\n",
              "    </tr>\n",
              "    <tr>\n",
              "      <th>9</th>\n",
              "      <td>Purdue University</td>\n",
              "      <td>https://www.classcentral.com/university/purdue</td>\n",
              "      <td>Purdue University is an esteemed public resear...</td>\n",
              "      <td>पर्ड्यू विश्वविद्यालय एक सम्मानित सार्वजनिक अन...</td>\n",
              "    </tr>\n",
              "    <tr>\n",
              "      <th>10</th>\n",
              "      <td>U. of Pennsylvania</td>\n",
              "      <td>https://www.classcentral.com/university/penn</td>\n",
              "      <td>University of Pennsylvania is an Ivy League un...</td>\n",
              "      <td>पेंसिल्वेनिया विश्वविद्यालय फिलाडेल्फिया, पीए ...</td>\n",
              "    </tr>\n",
              "    <tr>\n",
              "      <th>11</th>\n",
              "      <td>Duke University</td>\n",
              "      <td>https://www.classcentral.com/university/duke</td>\n",
              "      <td>Duke University is a world-renowned private re...</td>\n",
              "      <td>ड्यूक विश्वविद्यालय डरहम, नेकां में स्थित एक व...</td>\n",
              "    </tr>\n",
              "    <tr>\n",
              "      <th>12</th>\n",
              "      <td>U. of Michigan</td>\n",
              "      <td>https://www.classcentral.com/university/umich</td>\n",
              "      <td>The University of Michigan is a top public uni...</td>\n",
              "      <td>मिशिगन विश्वविद्यालय एक शीर्ष सार्वजनिक विश्वव...</td>\n",
              "    </tr>\n",
              "    <tr>\n",
              "      <th>13</th>\n",
              "      <td>Coursera</td>\n",
              "      <td>https://www.classcentral.com/provider/coursera</td>\n",
              "      <td>Coursera is an online learning platform that p...</td>\n",
              "      <td>Coursera एक ऑनलाइन लर्निंग प्लेटफॉर्म है जो वि...</td>\n",
              "    </tr>\n",
              "    <tr>\n",
              "      <th>14</th>\n",
              "      <td>edX</td>\n",
              "      <td>https://www.classcentral.com/provider/edx</td>\n",
              "      <td>EdX is an online learning platform that offers...</td>\n",
              "      <td>EDX एक ऑनलाइन लर्निंग प्लेटफॉर्म है जो दुनिया ...</td>\n",
              "    </tr>\n",
              "    <tr>\n",
              "      <th>15</th>\n",
              "      <td>FutureLearn</td>\n",
              "      <td>https://www.classcentral.com/provider/futurelearn</td>\n",
              "      <td>FutureLearn is a UK-based online learning plat...</td>\n",
              "      <td>FutureLearn एक यूके-आधारित ऑनलाइन लर्निंग प्ले...</td>\n",
              "    </tr>\n",
              "    <tr>\n",
              "      <th>16</th>\n",
              "      <td>Udemy</td>\n",
              "      <td>https://www.classcentral.com/provider/udemy</td>\n",
              "      <td>Udemy is an online learning platform that prov...</td>\n",
              "      <td>Udemy एक ऑनलाइन लर्निंग प्लेटफॉर्म है जो कंप्य...</td>\n",
              "    </tr>\n",
              "    <tr>\n",
              "      <th>17</th>\n",
              "      <td>Swayam</td>\n",
              "      <td>https://www.classcentral.com/provider/swayam</td>\n",
              "      <td>Swayam is a government of India's platform for...</td>\n",
              "      <td>स्वायम ऑनलाइन शिक्षा के लिए भारत का एक मंच है,...</td>\n",
              "    </tr>\n",
              "    <tr>\n",
              "      <th>18</th>\n",
              "      <td>LinkedIn Learning</td>\n",
              "      <td>https://www.classcentral.com/provider/linkedin...</td>\n",
              "      <td>LinkedIn Learning is an online learning platfo...</td>\n",
              "      <td>लिंक्डइन लर्निंग एक ऑनलाइन लर्निंग प्लेटफॉर्म ...</td>\n",
              "    </tr>\n",
              "    <tr>\n",
              "      <th>19</th>\n",
              "      <td>Skillshare</td>\n",
              "      <td>https://www.classcentral.com/provider/skillshare</td>\n",
              "      <td>Skillshare is an online learning community wit...</td>\n",
              "      <td>Skillshare एक ऑनलाइन शिक्षण समुदाय है जिसमें ड...</td>\n",
              "    </tr>\n",
              "    <tr>\n",
              "      <th>20</th>\n",
              "      <td>Google</td>\n",
              "      <td>https://www.classcentral.com/institution/google</td>\n",
              "      <td>Google is an American multinational corporatio...</td>\n",
              "      <td>Google एक अमेरिकी बहुराष्ट्रीय निगम है जो इंटर...</td>\n",
              "    </tr>\n",
              "    <tr>\n",
              "      <th>21</th>\n",
              "      <td>Amazon</td>\n",
              "      <td>https://www.classcentral.com/institution/amazon</td>\n",
              "      <td>Amazon.com, Inc. is an American electronic com...</td>\n",
              "      <td>Amazon.com, Inc. सिएटल, वाशिंगटन में मुख्यालय ...</td>\n",
              "    </tr>\n",
              "    <tr>\n",
              "      <th>22</th>\n",
              "      <td>Microsoft</td>\n",
              "      <td>https://www.classcentral.com/institution/micro...</td>\n",
              "      <td>Microsoft Corporation is an American multinati...</td>\n",
              "      <td>Microsoft Corporation एक अमेरिकी बहुराष्ट्रीय ...</td>\n",
              "    </tr>\n",
              "    <tr>\n",
              "      <th>23</th>\n",
              "      <td>IBM</td>\n",
              "      <td>https://www.classcentral.com/institution/ibm</td>\n",
              "      <td>No pragraph available</td>\n",
              "      <td>कोई प्राग उपलब्ध नहीं है</td>\n",
              "    </tr>\n",
              "    <tr>\n",
              "      <th>24</th>\n",
              "      <td>Smithsonian</td>\n",
              "      <td>https://www.classcentral.com/institution/smith...</td>\n",
              "      <td>The Smithsonian Institution, established in 18...</td>\n",
              "      <td>स्मिथसोनियन इंस्टीट्यूशन, 1846 में \"ज्ञान की व...</td>\n",
              "    </tr>\n",
              "    <tr>\n",
              "      <th>25</th>\n",
              "      <td>United Nations</td>\n",
              "      <td>https://www.classcentral.com/institution/unite...</td>\n",
              "      <td>UN CC:e-Learn provides free online courses to ...</td>\n",
              "      <td>UN CC: ई-लर्न लोगों को जलवायु परिवर्तन, विज्ञा...</td>\n",
              "    </tr>\n",
              "    <tr>\n",
              "      <th>26</th>\n",
              "      <td>British Council</td>\n",
              "      <td>https://www.classcentral.com/institution/briti...</td>\n",
              "      <td>The British Council is a British organisation ...</td>\n",
              "      <td>ब्रिटिश काउंसिल एक ब्रिटिश संगठन है जो अंतर्रा...</td>\n",
              "    </tr>\n",
              "  </tbody>\n",
              "</table>\n",
              "</div>\n",
              "      <button class=\"colab-df-convert\" onclick=\"convertToInteractive('df-55ef2b82-b3df-4cc4-9c0b-7208b5061bf4')\"\n",
              "              title=\"Convert this dataframe to an interactive table.\"\n",
              "              style=\"display:none;\">\n",
              "        \n",
              "  <svg xmlns=\"http://www.w3.org/2000/svg\" height=\"24px\"viewBox=\"0 0 24 24\"\n",
              "       width=\"24px\">\n",
              "    <path d=\"M0 0h24v24H0V0z\" fill=\"none\"/>\n",
              "    <path d=\"M18.56 5.44l.94 2.06.94-2.06 2.06-.94-2.06-.94-.94-2.06-.94 2.06-2.06.94zm-11 1L8.5 8.5l.94-2.06 2.06-.94-2.06-.94L8.5 2.5l-.94 2.06-2.06.94zm10 10l.94 2.06.94-2.06 2.06-.94-2.06-.94-.94-2.06-.94 2.06-2.06.94z\"/><path d=\"M17.41 7.96l-1.37-1.37c-.4-.4-.92-.59-1.43-.59-.52 0-1.04.2-1.43.59L10.3 9.45l-7.72 7.72c-.78.78-.78 2.05 0 2.83L4 21.41c.39.39.9.59 1.41.59.51 0 1.02-.2 1.41-.59l7.78-7.78 2.81-2.81c.8-.78.8-2.07 0-2.86zM5.41 20L4 18.59l7.72-7.72 1.47 1.35L5.41 20z\"/>\n",
              "  </svg>\n",
              "      </button>\n",
              "      \n",
              "  <style>\n",
              "    .colab-df-container {\n",
              "      display:flex;\n",
              "      flex-wrap:wrap;\n",
              "      gap: 12px;\n",
              "    }\n",
              "\n",
              "    .colab-df-convert {\n",
              "      background-color: #E8F0FE;\n",
              "      border: none;\n",
              "      border-radius: 50%;\n",
              "      cursor: pointer;\n",
              "      display: none;\n",
              "      fill: #1967D2;\n",
              "      height: 32px;\n",
              "      padding: 0 0 0 0;\n",
              "      width: 32px;\n",
              "    }\n",
              "\n",
              "    .colab-df-convert:hover {\n",
              "      background-color: #E2EBFA;\n",
              "      box-shadow: 0px 1px 2px rgba(60, 64, 67, 0.3), 0px 1px 3px 1px rgba(60, 64, 67, 0.15);\n",
              "      fill: #174EA6;\n",
              "    }\n",
              "\n",
              "    [theme=dark] .colab-df-convert {\n",
              "      background-color: #3B4455;\n",
              "      fill: #D2E3FC;\n",
              "    }\n",
              "\n",
              "    [theme=dark] .colab-df-convert:hover {\n",
              "      background-color: #434B5C;\n",
              "      box-shadow: 0px 1px 3px 1px rgba(0, 0, 0, 0.15);\n",
              "      filter: drop-shadow(0px 1px 2px rgba(0, 0, 0, 0.3));\n",
              "      fill: #FFFFFF;\n",
              "    }\n",
              "  </style>\n",
              "\n",
              "      <script>\n",
              "        const buttonEl =\n",
              "          document.querySelector('#df-55ef2b82-b3df-4cc4-9c0b-7208b5061bf4 button.colab-df-convert');\n",
              "        buttonEl.style.display =\n",
              "          google.colab.kernel.accessAllowed ? 'block' : 'none';\n",
              "\n",
              "        async function convertToInteractive(key) {\n",
              "          const element = document.querySelector('#df-55ef2b82-b3df-4cc4-9c0b-7208b5061bf4');\n",
              "          const dataTable =\n",
              "            await google.colab.kernel.invokeFunction('convertToInteractive',\n",
              "                                                     [key], {});\n",
              "          if (!dataTable) return;\n",
              "\n",
              "          const docLinkHtml = 'Like what you see? Visit the ' +\n",
              "            '<a target=\"_blank\" href=https://colab.research.google.com/notebooks/data_table.ipynb>data table notebook</a>'\n",
              "            + ' to learn more about interactive tables.';\n",
              "          element.innerHTML = '';\n",
              "          dataTable['output_type'] = 'display_data';\n",
              "          await google.colab.output.renderOutput(dataTable, element);\n",
              "          const docLink = document.createElement('div');\n",
              "          docLink.innerHTML = docLinkHtml;\n",
              "          element.appendChild(docLink);\n",
              "        }\n",
              "      </script>\n",
              "    </div>\n",
              "  </div>\n",
              "  "
            ]
          },
          "metadata": {},
          "execution_count": 21
        }
      ]
    }
  ]
}